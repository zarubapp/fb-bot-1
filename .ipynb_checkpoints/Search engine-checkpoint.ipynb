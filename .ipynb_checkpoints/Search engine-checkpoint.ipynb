{
 "cells": [
  {
   "cell_type": "markdown",
   "id": "65bff8f7-7b86-46ac-8b97-dd9bcfc04d28",
   "metadata": {},
   "source": [
    "Загружаем модули"
   ]
  },
  {
   "cell_type": "code",
   "execution_count": 1,
   "id": "e5db4ba6-4a56-48cd-b821-45be6daa02ad",
   "metadata": {},
   "outputs": [],
   "source": [
    "import zipfile\n",
    "from io import BytesIO, StringIO\n",
    "from IPython.display import display\n",
    "\n",
    "import pandas as pd\n",
    "import requests\n",
    "import hashlib\n",
    "import fsspec"
   ]
  },
  {
   "cell_type": "markdown",
   "id": "cd499f0e-fac2-4857-b904-36f8b14c9dd5",
   "metadata": {},
   "source": [
    "Задаем значения"
   ]
  },
  {
   "cell_type": "code",
   "execution_count": 2,
   "id": "12c9dbb5-44b0-4072-981a-cbebb3a0d3a7",
   "metadata": {},
   "outputs": [],
   "source": [
    "url = 'https://flibusta.site/catalog/catalog.zip'\n",
    "\n",
    "md5hash_current = ''"
   ]
  },
  {
   "cell_type": "markdown",
   "id": "b66a0d68-ccdc-424e-b93f-085bdde0c225",
   "metadata": {},
   "source": [
    "Получаем файл с данными"
   ]
  },
  {
   "cell_type": "code",
   "execution_count": 3,
   "id": "8f87bce4-87f3-4dda-9e2f-bebd51cb6a2b",
   "metadata": {},
   "outputs": [
    {
     "name": "stdout",
     "output_type": "stream",
     "text": [
      "200\n"
     ]
    }
   ],
   "source": [
    "r = requests.get(url)\n",
    "print(r.status_code)"
   ]
  },
  {
   "cell_type": "markdown",
   "id": "71491069-0f72-48c4-a336-cbaae8d410c8",
   "metadata": {},
   "source": [
    "Распаковываем файл, перекодируем и читаем дата фрейм"
   ]
  },
  {
   "cell_type": "code",
   "execution_count": 4,
   "id": "b78f1f48-ea27-4dd4-ab94-dd0cc81bdfdb",
   "metadata": {},
   "outputs": [],
   "source": [
    "zipDocument = zipfile.ZipFile(BytesIO(r.content))\n",
    "file = zipDocument.open('catalog.txt').read().decode('utf-8')\n",
    "\n",
    "df = pd.read_csv(StringIO(file), delimiter=';', on_bad_lines='skip')"
   ]
  },
  {
   "cell_type": "markdown",
   "id": "b6c0c821-3aa8-47a3-a6e4-810fe989740e",
   "metadata": {},
   "source": [
    "Поисковая фраза"
   ]
  },
  {
   "cell_type": "code",
   "execution_count": 5,
   "id": "30a7e857-16b3-424e-89d4-fab2596bf04a",
   "metadata": {},
   "outputs": [
    {
     "data": {
      "text/plain": [
       "'красный кефир'"
      ]
     },
     "metadata": {},
     "output_type": "display_data"
    }
   ],
   "source": [
    "author = 'азимов'\n",
    "book_name = ''\n",
    "\n",
    "#search_string = ['foo', 'baz']\n",
    "#search_string = 'Красный кефир'.split()\n",
    "search_string = 'красный кефир'\n",
    "\n",
    "display(search_string)\n",
    "\n",
    "df_result = df[df['Title'].str.contains(search_string, na=False, case=False)]"
   ]
  },
  {
   "cell_type": "code",
   "execution_count": 6,
   "id": "b8e114c5-4f72-45c2-8167-57975a18adb5",
   "metadata": {},
   "outputs": [
    {
     "data": {
      "text/html": [
       "<div>\n",
       "<style scoped>\n",
       "    .dataframe tbody tr th:only-of-type {\n",
       "        vertical-align: middle;\n",
       "    }\n",
       "\n",
       "    .dataframe tbody tr th {\n",
       "        vertical-align: top;\n",
       "    }\n",
       "\n",
       "    .dataframe thead th {\n",
       "        text-align: right;\n",
       "    }\n",
       "</style>\n",
       "<table border=\"1\" class=\"dataframe\">\n",
       "  <thead>\n",
       "    <tr style=\"text-align: right;\">\n",
       "      <th></th>\n",
       "      <th>Last Name</th>\n",
       "      <th>First Name</th>\n",
       "      <th>Middle Name</th>\n",
       "      <th>Title</th>\n",
       "      <th>Subtitle</th>\n",
       "      <th>Language</th>\n",
       "      <th>Year</th>\n",
       "      <th>Series</th>\n",
       "      <th>ID</th>\n",
       "    </tr>\n",
       "  </thead>\n",
       "  <tbody>\n",
       "    <tr>\n",
       "      <th>527804</th>\n",
       "      <td>Трофимов</td>\n",
       "      <td>Сергей</td>\n",
       "      <td>Павлович</td>\n",
       "      <td>Красный кефир</td>\n",
       "      <td>NaN</td>\n",
       "      <td>ru</td>\n",
       "      <td>NaN</td>\n",
       "      <td>NaN</td>\n",
       "      <td>95847</td>\n",
       "    </tr>\n",
       "  </tbody>\n",
       "</table>\n",
       "</div>"
      ],
      "text/plain": [
       "       Last Name First Name Middle Name          Title Subtitle Language  \\\n",
       "527804  Трофимов     Сергей    Павлович  Красный кефир      NaN       ru   \n",
       "\n",
       "        Year Series     ID  \n",
       "527804   NaN    NaN  95847  "
      ]
     },
     "metadata": {},
     "output_type": "display_data"
    }
   ],
   "source": [
    "display(df_result.head(10))"
   ]
  }
 ],
 "metadata": {
  "kernelspec": {
   "display_name": "Python 3 (ipykernel)",
   "language": "python",
   "name": "python3"
  },
  "language_info": {
   "codemirror_mode": {
    "name": "ipython",
    "version": 3
   },
   "file_extension": ".py",
   "mimetype": "text/x-python",
   "name": "python",
   "nbconvert_exporter": "python",
   "pygments_lexer": "ipython3",
   "version": "3.9.12"
  }
 },
 "nbformat": 4,
 "nbformat_minor": 5
}
